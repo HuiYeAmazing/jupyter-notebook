{
 "cells": [
  {
   "cell_type": "code",
   "execution_count": 1,
   "metadata": {},
   "outputs": [],
   "source": [
    "import geemap\n",
    "import ee"
   ]
  },
  {
   "cell_type": "code",
   "execution_count": 2,
   "metadata": {},
   "outputs": [
    {
     "data": {
      "application/vnd.jupyter.widget-view+json": {
       "model_id": "aea849a5ab4c478ea88489bfd6f61295",
       "version_major": 2,
       "version_minor": 0
      },
      "text/plain": [
       "Map(center=[40, 80], controls=(WidgetControl(options=['position'], widget=HBox(children=(ToggleButton(value=Fa…"
      ]
     },
     "metadata": {},
     "output_type": "display_data"
    }
   ],
   "source": [
    "# 打开地图\n",
    "Map = geemap.Map(center=(40, 80)) #center参数是打开地图的中心点经纬度坐标\n",
    "Map"
   ]
  },
  {
   "cell_type": "code",
   "execution_count": 5,
   "metadata": {},
   "outputs": [
    {
     "data": {
      "text/plain": [
       "<ee.feature.Feature at 0x28170195820>"
      ]
     },
     "execution_count": 5,
     "metadata": {},
     "output_type": "execute_result"
    }
   ],
   "source": [
    "# 在上图绘制需要下载的区域然后再执行这一步\n",
    "Map.draw_features  # 查看绘制图层信息"
   ]
  },
  {
   "cell_type": "code",
   "execution_count": 8,
   "metadata": {},
   "outputs": [],
   "source": [
    "roi = Map.draw_features[0].geometry() # 选择指定绘制区域作为下载范围，这里选择的是第一个即0"
   ]
  },
  {
   "cell_type": "code",
   "execution_count": 16,
   "metadata": {},
   "outputs": [],
   "source": [
    "class para:\n",
    "    start_time = '2000' # 开始时间\n",
    "    end_time = '2016'   # 结束时间\n",
    "    outpath = 'E:/temp/MODIS/'   # 下载文件保存文件夹路径,路径符号用正斜杠，且以正斜杠结尾\n",
    "    file_format = '.tif'         # 下载文件保存格式\n"
   ]
  },
  {
   "cell_type": "code",
   "execution_count": 13,
   "metadata": {},
   "outputs": [],
   "source": [
    "image = ee.ImageCollection(\"MODIS/006/MOD11A2\").filterDate(para.start_time, para.end_time) # 引用方法到gee里面复制\n",
    "# filterDate确定时间范围\n",
    "name = image.aggregate_array('system:id').getInfo()   # 得到地图id"
   ]
  },
  {
   "cell_type": "code",
   "execution_count": null,
   "metadata": {},
   "outputs": [],
   "source": [
    "for i in name: # 用地图id做循环\n",
    "    Layer = ee.Image(i).select('LST_Day_1km') # 使用地图，select为确定地图波段，可以去除，则为全波段\n",
    "    # 保存文件名为地图id加文件格式\n",
    "    a = i.split('/')\n",
    "    str = '-'\n",
    "    b = str.join(a)\n",
    "    file = para.outpath + b + para.file_format\n",
    "    # 导出栅格影像\n",
    "    geemap.ee_export_image(Layer, filename=file, region=roi,file_per_band=True)"
   ]
  },
  {
   "cell_type": "code",
   "execution_count": null,
   "metadata": {},
   "outputs": [],
   "source": []
  }
 ],
 "metadata": {
  "kernelspec": {
   "display_name": "Python 3",
   "language": "python",
   "name": "python3"
  },
  "language_info": {
   "codemirror_mode": {
    "name": "ipython",
    "version": 3
   },
   "file_extension": ".py",
   "mimetype": "text/x-python",
   "name": "python",
   "nbconvert_exporter": "python",
   "pygments_lexer": "ipython3",
   "version": "3.8.3"
  }
 },
 "nbformat": 4,
 "nbformat_minor": 4
}
