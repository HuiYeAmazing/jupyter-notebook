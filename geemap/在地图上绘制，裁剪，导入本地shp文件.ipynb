{
 "cells": [
  {
   "cell_type": "code",
   "execution_count": 1,
   "metadata": {},
   "outputs": [],
   "source": [
    "import geemap"
   ]
  },
  {
   "cell_type": "code",
   "execution_count": 3,
   "metadata": {},
   "outputs": [
    {
     "data": {
      "text/html": [
       "<p>To authorize access needed by Earth Engine, open the following\n",
       "        URL in a web browser and follow the instructions:</p>\n",
       "        <p><a href=https://accounts.google.com/o/oauth2/auth?client_id=517222506229-vsmmajv00ul0bs7p89v5m89qs8eb9359.apps.googleusercontent.com&scope=https%3A%2F%2Fwww.googleapis.com%2Fauth%2Fearthengine+https%3A%2F%2Fwww.googleapis.com%2Fauth%2Fdevstorage.full_control&redirect_uri=urn%3Aietf%3Awg%3Aoauth%3A2.0%3Aoob&response_type=code&code_challenge=Xp5YPIXM2Yabjg8v3mH3LJw1PNbwF9wpolSGj-ZyGnE&code_challenge_method=S256>https://accounts.google.com/o/oauth2/auth?client_id=517222506229-vsmmajv00ul0bs7p89v5m89qs8eb9359.apps.googleusercontent.com&scope=https%3A%2F%2Fwww.googleapis.com%2Fauth%2Fearthengine+https%3A%2F%2Fwww.googleapis.com%2Fauth%2Fdevstorage.full_control&redirect_uri=urn%3Aietf%3Awg%3Aoauth%3A2.0%3Aoob&response_type=code&code_challenge=Xp5YPIXM2Yabjg8v3mH3LJw1PNbwF9wpolSGj-ZyGnE&code_challenge_method=S256</a></p>\n",
       "        <p>The authorization workflow will generate a code, which you\n",
       "        should paste in the box below</p>\n",
       "        "
      ],
      "text/plain": [
       "<IPython.core.display.HTML object>"
      ]
     },
     "metadata": {},
     "output_type": "display_data"
    },
    {
     "name": "stdout",
     "output_type": "stream",
     "text": [
      "Enter verification code: 4/5AHM4RE_Dc2WK0AVYb-8957QawOzFSwj9_xZgV_HYgIdb-A8Xs7bx-Q\n",
      "\n",
      "Successfully saved authorization token.\n"
     ]
    },
    {
     "data": {
      "application/vnd.jupyter.widget-view+json": {
       "model_id": "bac3ecf30617476aab51c897441db42d",
       "version_major": 2,
       "version_minor": 0
      },
      "text/plain": [
       "Map(center=[40, 116], controls=(WidgetControl(options=['position'], widget=HBox(children=(ToggleButton(value=F…"
      ]
     },
     "metadata": {},
     "output_type": "display_data"
    }
   ],
   "source": [
    "Map = geemap.Map(center=(40, 116))\n",
    "Map"
   ]
  },
  {
   "cell_type": "code",
   "execution_count": 3,
   "metadata": {},
   "outputs": [],
   "source": [
    "import ee\n",
    "image = ee.ImageCollection(\"MODIS/006/MOD13Q1\").filterDate('2017-01-01', '2018-01-01').select('NDVI')\n",
    "vis_params = {\n",
    "    'min':0,\n",
    "    'max':4000,\n",
    "    'palette':['006633', 'E5FFCC', '662A00', 'D8D8D8', 'F5F5F5']}\n",
    "Map.addLayer(image, vis_params, 'SRTM DEM')\n",
    "states = ee.FeatureCollection(\"TIGER/2018/States\")\n",
    "Map.addLayer(states, {}, 'US States') # 将图层添加到Map地图中"
   ]
  },
  {
   "cell_type": "code",
   "execution_count": 4,
   "metadata": {},
   "outputs": [
    {
     "name": "stdout",
     "output_type": "stream",
     "text": [
      "'utf-8' codec can't decode byte 0xd0 in position 0: invalid continuation byte\n",
      "Could not convert the geojson to ee.Geometry()\n",
      "stat: path should be string, bytes, os.PathLike or integer, not NoneType\n"
     ]
    }
   ],
   "source": [
    "chong = geemap.shp_to_ee('E:/temp/collegesChina.shp')  # 本地shp文件转ee图层，"
   ]
  },
  {
   "cell_type": "code",
   "execution_count": 10,
   "metadata": {},
   "outputs": [],
   "source": [
    "cipped_image = image.clip(states) # 裁剪图层，image文件被裁剪图层，states为裁剪图层\n",
    "Map.addLayer(cipped_image, vis_params, 'cipped')"
   ]
  }
 ],
 "metadata": {
  "kernelspec": {
   "display_name": "Python 3",
   "language": "python",
   "name": "python3"
  },
  "language_info": {
   "codemirror_mode": {
    "name": "ipython",
    "version": 3
   },
   "file_extension": ".py",
   "mimetype": "text/x-python",
   "name": "python",
   "nbconvert_exporter": "python",
   "pygments_lexer": "ipython3",
   "version": "3.8.3"
  }
 },
 "nbformat": 4,
 "nbformat_minor": 4
}
